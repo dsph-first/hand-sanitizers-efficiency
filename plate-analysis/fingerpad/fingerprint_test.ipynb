{
 "cells": [
  {
   "cell_type": "markdown",
   "metadata": {},
   "source": [
    "**Data manipulation, vizualization and analysis**"
   ]
  },
  {
   "cell_type": "code",
   "execution_count": null,
   "metadata": {},
   "outputs": [],
   "source": [
    "%load_ext autoreload\n",
    "%autoreload 2\n",
    "# imports for config\n",
    "import yaml\n",
    "\n",
    "# imports for data manipulation\n",
    "import pandas as pd\n",
    "import numpy as np\n",
    "\n",
    "# imports for making figures\n",
    "import plotly.graph_objects as go\n",
    "\n",
    "# imports for statistical analysis\n",
    "import statistical_analysis\n",
    "import scipy\n",
    "\n"
   ]
  },
  {
   "cell_type": "code",
   "execution_count": null,
   "metadata": {},
   "outputs": [],
   "source": [
    "def get_config():\n",
    "    with open(\"config.yaml\", 'r') as stream:\n",
    "        config = yaml.safe_load(stream)\n",
    "    return config\n",
    "\n",
    "config = get_config()\n",
    "\n",
    "fingerpad_df = pd.read_excel(config['fingerpad'])"
   ]
  },
  {
   "cell_type": "markdown",
   "metadata": {},
   "source": [
    "**Data manipulation**"
   ]
  },
  {
   "cell_type": "code",
   "execution_count": null,
   "metadata": {},
   "outputs": [],
   "source": [
    "# drop the unnamed column containing the overall experiment no.\n",
    "fingerpad_df.drop(columns='Unnamed: 0', inplace=True)\n",
    "\n",
    "# set the index to the experiment ID for better sorting\n",
    "fingerpad_df.set_index('experiment ID', inplace=True)"
   ]
  },
  {
   "cell_type": "code",
   "execution_count": null,
   "metadata": {},
   "outputs": [],
   "source": [
    "fingerpad_df = fingerpad_df.T"
   ]
  },
  {
   "cell_type": "code",
   "execution_count": null,
   "metadata": {},
   "outputs": [],
   "source": [
    "fingerpad_df"
   ]
  },
  {
   "cell_type": "code",
   "execution_count": null,
   "metadata": {},
   "outputs": [],
   "source": [
    "fingerpad_df = fingerpad_df.groupby(np.arange(len(fingerpad_df.columns))//3, axis=1).mean()"
   ]
  },
  {
   "cell_type": "code",
   "execution_count": null,
   "metadata": {},
   "outputs": [],
   "source": [
    "fingerpad_df"
   ]
  },
  {
   "cell_type": "code",
   "execution_count": null,
   "metadata": {},
   "outputs": [],
   "source": [
    "fingerpad_df.rename({0:'HS1', 1:'C_HS1', 2:'HS2', 3:'C_HS2', 4:'HS3', 5:'C_HS3', 6:'HS4', 7:'C_HS4'}, axis=1, inplace=True)"
   ]
  },
  {
   "cell_type": "code",
   "execution_count": null,
   "metadata": {},
   "outputs": [],
   "source": [
    "fingerpad_df.T"
   ]
  },
  {
   "cell_type": "code",
   "execution_count": null,
   "metadata": {},
   "outputs": [],
   "source": [
    "# initialize a plotly histogram\n",
    "fig = go.Figure()\n",
    "fig.add_trace(go.Histogram(x=fingerpad_df['HS1'].values, name = fingerpad_df['HS1'].name))\n",
    "fig.add_trace(go.Histogram(x=fingerpad_df['C_HS1'].values, name = fingerpad_df['C_HS1'].name))\n",
    "\n",
    "fig.update_layout(barmode='stack')\n",
    "fig.show()"
   ]
  },
  {
   "cell_type": "markdown",
   "metadata": {},
   "source": [
    "**Statistical analysis**"
   ]
  },
  {
   "cell_type": "markdown",
   "metadata": {},
   "source": [
    "To check whether the data form a normal distribution, an anderson-darling test is performed (obtained from Emile Apol)"
   ]
  },
  {
   "cell_type": "code",
   "execution_count": null,
   "metadata": {},
   "outputs": [],
   "source": [
    "statistical_analysis.DS_AndersonDarling_test_normal(fingerpad_df['HS1'].values)\n",
    "statistical_analysis.DS_AndersonDarling_test_normal(fingerpad_df['C_HS1'].values)"
   ]
  },
  {
   "cell_type": "markdown",
   "metadata": {},
   "source": [
    "**Data follows a normal distribution**:\n",
    "\n",
    "2-sample (Welch) t-test (2 datasets, control and hand-sanitizers)"
   ]
  },
  {
   "cell_type": "code",
   "execution_count": null,
   "metadata": {},
   "outputs": [],
   "source": [
    "statistical_analysis.ind_t_test(fingerpad_df['HS1'].values, fingerpad_df['C_HS1'].values)"
   ]
  },
  {
   "cell_type": "markdown",
   "metadata": {},
   "source": [
    "**Data does not follow a normal distribution**:\n",
    "\n",
    "Mann-whitney U test (2 datasets, control and hand-sanitizers)"
   ]
  },
  {
   "cell_type": "code",
   "execution_count": null,
   "metadata": {},
   "outputs": [],
   "source": [
    "statistical_analysis.mann_withney(fingerpad_df['HS1'].values, fingerpad_df['C_HS1'].values)"
   ]
  },
  {
   "cell_type": "markdown",
   "metadata": {},
   "source": [
    "**Visual analysis**"
   ]
  },
  {
   "cell_type": "code",
   "execution_count": null,
   "metadata": {},
   "outputs": [],
   "source": [
    "sanitizer_list = []\n",
    "sanitizer_values = []\n",
    "control_list = []\n",
    "control_values = []\n",
    "\n",
    "\n",
    "for sanitizer in range(0, 8):\n",
    "    if sanitizer % 2 == 0:\n",
    "        sanitizer_list.append(fingerpad_df.keys()[sanitizer])\n",
    "        sanitizer_values.append(fingerpad_df.mean().values[sanitizer])\n",
    "    else:\n",
    "        control_list.append(fingerpad_df.keys()[sanitizer])\n",
    "        control_values.append(fingerpad_df.mean().values[sanitizer])"
   ]
  },
  {
   "cell_type": "code",
   "execution_count": null,
   "metadata": {},
   "outputs": [],
   "source": [
    "from scipy.stats import sem\n",
    "fig = go.Figure()\n",
    "fig.add_trace(go.Bar(x=sanitizer_list,\n",
    "                y=sanitizer_values,\n",
    "                name='Hand Sanitizer',\n",
    "                marker_color='rgb(55, 83, 109)',error_y=dict(type='constant', value=sem(fingerpad_df['HS1'].values)) \n",
    "                ))\n",
    "fig.add_trace(go.Bar(x=sanitizer_list,\n",
    "                y=control_values,\n",
    "                name='Control',\n",
    "                marker_color='rgb(26, 118, 255)', error_y=dict(type='constant', value=sem(fingerpad_df['C_HS1'].values))\n",
    "                ))\n",
    "\n",
    "fig.update_layout(\n",
    "    title='Evaluation of hand sanitizers vs. control',\n",
    "    xaxis_tickfont_size=14,\n",
    "    yaxis=dict(\n",
    "        title='Number of colonies',\n",
    "        titlefont_size=16,\n",
    "        tickfont_size=14,\n",
    "    ),\n",
    "    legend=dict(\n",
    "        x=20,\n",
    "        y=1.0,\n",
    "        bgcolor='rgba(255, 255, 255, 0)',\n",
    "        bordercolor='rgba(255, 255, 255, 0)'\n",
    "    ),\n",
    "    barmode='group',\n",
    "    bargap=0.15, # gap between bars of adjacent location coordinates.\n",
    "    bargroupgap=0.1 # gap between bars of the same location coordinate.\n",
    ")\n",
    "fig.show()"
   ]
  }
 ],
 "metadata": {
  "kernelspec": {
   "display_name": ".venv",
   "language": "python",
   "name": "python3"
  },
  "language_info": {
   "codemirror_mode": {
    "name": "ipython",
    "version": 3
   },
   "file_extension": ".py",
   "mimetype": "text/x-python",
   "name": "python",
   "nbconvert_exporter": "python",
   "pygments_lexer": "ipython3",
   "version": "3.10.12"
  }
 },
 "nbformat": 4,
 "nbformat_minor": 2
}
