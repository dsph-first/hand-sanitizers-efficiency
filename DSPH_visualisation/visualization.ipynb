{
 "cells": [
  {
   "cell_type": "markdown",
   "metadata": {},
   "source": [
    "## Data visualization (and statistics)\n",
    "\n",
    "Visualization and analysis for the fingerprint experiment (hand sanitizer project DSPH). \n",
    "\n",
    "Count data can be found in microsoft teams \"transmission and hand sanitizer\".\n",
    "I manually changed the names in the excel file containing the count data.\n",
    "\n",
    "In an older version mock data is created.\n",
    "\n",
    "Contains:\n",
    "- importing data from excel file\n",
    "- make visualization\n",
    "    - nested bar graph\n",
    "\n",
    "- statistical test\n",
    "    - testing for normality : Anderson-Darling\n",
    "    - statistics : two-sample t-test\n",
    "\n",
    "\n",
    "Improvements:\n",
    "- add error bar   \n",
    "- create function for the bar graph code\n",
    "- make function incorporation test for normality and significance testing\n"
   ]
  },
  {
   "cell_type": "code",
   "execution_count": 1,
   "metadata": {},
   "outputs": [],
   "source": [
    "# imports\n",
    "\n",
    "# data manipulation and processing\n",
    "import pandas as pd\n",
    "import numpy as np\n",
    "\n",
    "# visualizations\n",
    "from bokeh.models import FactorRange, Legend, ColumnDataSource, Whisker, LegendItem\n",
    "from bokeh.palettes import Colorblind\n",
    "from bokeh.plotting import figure, show, output_notebook, output_file\n",
    "\n",
    "# statistics\n",
    "from scipy.stats import ttest_ind, mannwhitneyu, anderson, shapiro\n",
    "\n",
    "output_file('results.html')\n"
   ]
  },
  {
   "cell_type": "markdown",
   "metadata": {},
   "source": [
    "### import data fingerprint experiment"
   ]
  },
  {
   "cell_type": "code",
   "execution_count": 2,
   "metadata": {},
   "outputs": [
    {
     "data": {
      "text/html": [
       "<div>\n",
       "<style scoped>\n",
       "    .dataframe tbody tr th:only-of-type {\n",
       "        vertical-align: middle;\n",
       "    }\n",
       "\n",
       "    .dataframe tbody tr th {\n",
       "        vertical-align: top;\n",
       "    }\n",
       "\n",
       "    .dataframe thead th {\n",
       "        text-align: right;\n",
       "    }\n",
       "</style>\n",
       "<table border=\"1\" class=\"dataframe\">\n",
       "  <thead>\n",
       "    <tr style=\"text-align: right;\">\n",
       "      <th>experiment</th>\n",
       "      <th>HS1-1</th>\n",
       "      <th>HS1-2</th>\n",
       "      <th>HS1-3</th>\n",
       "      <th>HS1-C1</th>\n",
       "      <th>HS1-C2</th>\n",
       "      <th>HS1-C3</th>\n",
       "    </tr>\n",
       "  </thead>\n",
       "  <tbody>\n",
       "    <tr>\n",
       "      <th>1</th>\n",
       "      <td>42</td>\n",
       "      <td>90</td>\n",
       "      <td>90</td>\n",
       "      <td>26</td>\n",
       "      <td>30</td>\n",
       "      <td>90</td>\n",
       "    </tr>\n",
       "    <tr>\n",
       "      <th>2</th>\n",
       "      <td>79</td>\n",
       "      <td>120</td>\n",
       "      <td>57</td>\n",
       "      <td>6</td>\n",
       "      <td>28</td>\n",
       "      <td>66</td>\n",
       "    </tr>\n",
       "    <tr>\n",
       "      <th>3</th>\n",
       "      <td>3</td>\n",
       "      <td>11</td>\n",
       "      <td>3</td>\n",
       "      <td>7</td>\n",
       "      <td>30</td>\n",
       "      <td>3</td>\n",
       "    </tr>\n",
       "    <tr>\n",
       "      <th>4</th>\n",
       "      <td>6</td>\n",
       "      <td>76</td>\n",
       "      <td>118</td>\n",
       "      <td>12</td>\n",
       "      <td>81</td>\n",
       "      <td>30</td>\n",
       "    </tr>\n",
       "    <tr>\n",
       "      <th>5</th>\n",
       "      <td>17</td>\n",
       "      <td>22</td>\n",
       "      <td>9</td>\n",
       "      <td>40</td>\n",
       "      <td>5</td>\n",
       "      <td>9</td>\n",
       "    </tr>\n",
       "    <tr>\n",
       "      <th>6</th>\n",
       "      <td>57</td>\n",
       "      <td>43</td>\n",
       "      <td>100</td>\n",
       "      <td>62</td>\n",
       "      <td>27</td>\n",
       "      <td>47</td>\n",
       "    </tr>\n",
       "  </tbody>\n",
       "</table>\n",
       "</div>"
      ],
      "text/plain": [
       "experiment  HS1-1  HS1-2  HS1-3  HS1-C1  HS1-C2  HS1-C3\n",
       "1              42     90     90      26      30      90\n",
       "2              79    120     57       6      28      66\n",
       "3               3     11      3       7      30       3\n",
       "4               6     76    118      12      81      30\n",
       "5              17     22      9      40       5       9\n",
       "6              57     43    100      62      27      47"
      ]
     },
     "execution_count": 2,
     "metadata": {},
     "output_type": "execute_result"
    }
   ],
   "source": [
    "df = pd.read_excel('fingerprinting.xlsx')\n",
    "df.set_index('experiment', inplace=True)\n",
    "df = df.transpose()\n",
    "df"
   ]
  },
  {
   "cell_type": "code",
   "execution_count": 3,
   "metadata": {},
   "outputs": [
    {
     "data": {
      "text/html": [
       "<div>\n",
       "<style scoped>\n",
       "    .dataframe tbody tr th:only-of-type {\n",
       "        vertical-align: middle;\n",
       "    }\n",
       "\n",
       "    .dataframe tbody tr th {\n",
       "        vertical-align: top;\n",
       "    }\n",
       "\n",
       "    .dataframe thead th {\n",
       "        text-align: right;\n",
       "    }\n",
       "</style>\n",
       "<table border=\"1\" class=\"dataframe\">\n",
       "  <thead>\n",
       "    <tr style=\"text-align: right;\">\n",
       "      <th></th>\n",
       "      <th>1</th>\n",
       "      <th>2</th>\n",
       "      <th>3</th>\n",
       "      <th>4</th>\n",
       "      <th>5</th>\n",
       "      <th>6</th>\n",
       "      <th>count</th>\n",
       "    </tr>\n",
       "    <tr>\n",
       "      <th>experiment</th>\n",
       "      <th></th>\n",
       "      <th></th>\n",
       "      <th></th>\n",
       "      <th></th>\n",
       "      <th></th>\n",
       "      <th></th>\n",
       "      <th></th>\n",
       "    </tr>\n",
       "  </thead>\n",
       "  <tbody>\n",
       "    <tr>\n",
       "      <th>HS1_S</th>\n",
       "      <td>74.000000</td>\n",
       "      <td>85.333333</td>\n",
       "      <td>5.666667</td>\n",
       "      <td>66.666667</td>\n",
       "      <td>16.0</td>\n",
       "      <td>66.666667</td>\n",
       "      <td>52.388889</td>\n",
       "    </tr>\n",
       "    <tr>\n",
       "      <th>HS1_C</th>\n",
       "      <td>48.666667</td>\n",
       "      <td>33.333333</td>\n",
       "      <td>13.333333</td>\n",
       "      <td>41.000000</td>\n",
       "      <td>18.0</td>\n",
       "      <td>45.333333</td>\n",
       "      <td>33.277778</td>\n",
       "    </tr>\n",
       "  </tbody>\n",
       "</table>\n",
       "</div>"
      ],
      "text/plain": [
       "                    1          2          3          4     5          6  \\\n",
       "experiment                                                                \n",
       "HS1_S       74.000000  85.333333   5.666667  66.666667  16.0  66.666667   \n",
       "HS1_C       48.666667  33.333333  13.333333  41.000000  18.0  45.333333   \n",
       "\n",
       "                count  \n",
       "experiment             \n",
       "HS1_S       52.388889  \n",
       "HS1_C       33.277778  "
      ]
     },
     "execution_count": 3,
     "metadata": {},
     "output_type": "execute_result"
    }
   ],
   "source": [
    "# get the mean for each triplicate\n",
    "df['HS1_S'] = df[df.columns[df.columns.str.contains('HS1-\\d+')]].mean(axis=1)\n",
    "df['HS1_C'] = df[df.columns[df.columns.str.contains('HS1-C\\d+')]].mean(axis=1)\n",
    "#df['HS2_S'] = df[df.columns[df.columns.str.contains('HS2-\\d+')]].mean(axis=1)\n",
    "#df['HS2_C'] = df[df.columns[df.columns.str.contains('HS2-C')]].mean(axis=1)  \n",
    "\n",
    "df_res = df.iloc[:, -2:].T # change depending on the number of HS (# HS * 2)\n",
    "df_res['count'] = df_res[df_res.columns].mean(axis=1)\n",
    "\n",
    "df_res\n",
    "\n"
   ]
  },
  {
   "cell_type": "code",
   "execution_count": 4,
   "metadata": {},
   "outputs": [],
   "source": [
    "df_res.reset_index(inplace=True)\n",
    "df_res[['HS', 'sample_type']] = df_res['experiment'].str.split('_', n=1, expand=True)\n",
    "df_res.drop(['experiment'], axis=1, inplace=True)\n"
   ]
  },
  {
   "cell_type": "code",
   "execution_count": 20,
   "metadata": {},
   "outputs": [
    {
     "data": {
      "text/html": [
       "<div>\n",
       "<style scoped>\n",
       "    .dataframe tbody tr th:only-of-type {\n",
       "        vertical-align: middle;\n",
       "    }\n",
       "\n",
       "    .dataframe tbody tr th {\n",
       "        vertical-align: top;\n",
       "    }\n",
       "\n",
       "    .dataframe thead th {\n",
       "        text-align: right;\n",
       "    }\n",
       "</style>\n",
       "<table border=\"1\" class=\"dataframe\">\n",
       "  <thead>\n",
       "    <tr style=\"text-align: right;\">\n",
       "      <th></th>\n",
       "      <th>1</th>\n",
       "      <th>2</th>\n",
       "      <th>3</th>\n",
       "      <th>4</th>\n",
       "      <th>5</th>\n",
       "      <th>6</th>\n",
       "      <th>count</th>\n",
       "      <th>HS</th>\n",
       "      <th>sample_type</th>\n",
       "      <th>std_dev</th>\n",
       "      <th>x</th>\n",
       "      <th>error</th>\n",
       "    </tr>\n",
       "  </thead>\n",
       "  <tbody>\n",
       "    <tr>\n",
       "      <th>0</th>\n",
       "      <td>74.000000</td>\n",
       "      <td>85.333333</td>\n",
       "      <td>5.666667</td>\n",
       "      <td>66.666667</td>\n",
       "      <td>16.0</td>\n",
       "      <td>66.666667</td>\n",
       "      <td>52.388889</td>\n",
       "      <td>HS1</td>\n",
       "      <td>treated</td>\n",
       "      <td>36.133702</td>\n",
       "      <td>(HS1, treated)</td>\n",
       "      <td>36.133702</td>\n",
       "    </tr>\n",
       "    <tr>\n",
       "      <th>1</th>\n",
       "      <td>48.666667</td>\n",
       "      <td>33.333333</td>\n",
       "      <td>13.333333</td>\n",
       "      <td>41.000000</td>\n",
       "      <td>18.0</td>\n",
       "      <td>45.333333</td>\n",
       "      <td>33.277778</td>\n",
       "      <td>HS1</td>\n",
       "      <td>control</td>\n",
       "      <td>14.988143</td>\n",
       "      <td>(HS1, control)</td>\n",
       "      <td>14.988143</td>\n",
       "    </tr>\n",
       "  </tbody>\n",
       "</table>\n",
       "</div>"
      ],
      "text/plain": [
       "           1          2          3          4     5          6      count  \\\n",
       "0  74.000000  85.333333   5.666667  66.666667  16.0  66.666667  52.388889   \n",
       "1  48.666667  33.333333  13.333333  41.000000  18.0  45.333333  33.277778   \n",
       "\n",
       "    HS sample_type    std_dev               x      error  \n",
       "0  HS1     treated  36.133702  (HS1, treated)  36.133702  \n",
       "1  HS1     control  14.988143  (HS1, control)  14.988143  "
      ]
     },
     "execution_count": 20,
     "metadata": {},
     "output_type": "execute_result"
    }
   ],
   "source": [
    "df_res"
   ]
  },
  {
   "cell_type": "code",
   "execution_count": 6,
   "metadata": {},
   "outputs": [],
   "source": [
    "df_res['std_dev'] = df_res.iloc[:, :5].std(axis=1)\n"
   ]
  },
  {
   "cell_type": "markdown",
   "metadata": {},
   "source": [
    "## visualization"
   ]
  },
  {
   "cell_type": "code",
   "execution_count": 7,
   "metadata": {},
   "outputs": [],
   "source": [
    "df_res['sample_type'] = df_res['sample_type'].map({'S': 'treated', 'C': 'control'})\n",
    "df_res['x'] = df_res.apply(lambda row: (row['HS'], str(row['sample_type'])), axis=1)"
   ]
  },
  {
   "cell_type": "code",
   "execution_count": 21,
   "metadata": {},
   "outputs": [],
   "source": [
    "# nested bar graph: https://stackoverflow.com/questions/67901133/create-nested-bar-graph-in-bokeh-from-a-dataframe\n",
    "# legend append: https://stackoverflow.com/questions/46730609/position-the-legend-outside-the-plot-area-with-bokeh\n",
    "\n",
    "df_res.columns = df_res.columns.astype(str)\n",
    "\n",
    "p = figure(\n",
    "    x_range=FactorRange(*list(df_res[\"x\"].unique())),\n",
    "    width=500\n",
    ")\n",
    "\n",
    "factors = df_res['sample_type'].unique()\n",
    "\n",
    "# Manually specify colors for each factor\n",
    "colors = Colorblind[3][:len(factors)]\n",
    "\n",
    "legend_items = []\n",
    "\n",
    "for i, factor in enumerate(factors):\n",
    "    source = ColumnDataSource(df_res[df_res['sample_type'] == factor])\n",
    "    \n",
    "    vbar = p.vbar(x='x', top='count', width=0.9, source=source,\n",
    "                  color=colors[i])\n",
    "    legend_items.append((factor, [vbar]))\n",
    "\n",
    "\n",
    "p.y_range.start = 0\n",
    "p.y_range.end = df_res['count'].max() * 1.2\n",
    "p.x_range.range_padding = 0.25\n",
    "\n",
    "p.title = \"Number of colonies per handsanitizer\"\n",
    "p.title.text_font_size = '15px'\n",
    "p.yaxis.axis_label = \"Number of colonies\"\n",
    "p.xaxis.axis_label = \"Hand Sanitizers\"\n",
    "p.xgrid.grid_line_color = None\n",
    "\n",
    "# Create a legend\n",
    "legend = Legend(items=legend_items, location=\"top_center\")\n",
    "legend.label_text_font_size = \"12px\"\n",
    "legend.spacing = 5\n",
    "legend.click_policy = \"hide\"  \n",
    "\n",
    "p.add_layout(legend, 'below')\n",
    "\n",
    "# Show the plot\n",
    "show(p)\n",
    "\n"
   ]
  },
  {
   "cell_type": "code",
   "execution_count": 73,
   "metadata": {},
   "outputs": [],
   "source": [
    "# prepare for statistics\n",
    "# Create a new column by combining 'HS' and 'sample_type'\n",
    "df_res['HS_sample_type'] = df_res['HS'] + '_' + df_res['sample_type']\n",
    "\n",
    "df_res.set_index('HS_sample_type', inplace=True)\n",
    "df_transposed = df_res.T\n",
    "df_transposed.reset_index(inplace=True)\n",
    "\n",
    "# Convert 'HS1_treated' and 'HS1_control' to numeric\n",
    "df_transposed['HS1_treated'] = pd.to_numeric(df_transposed['HS1_treated'][:6])\n",
    "df_transposed['HS1_control'] = pd.to_numeric(df_transposed['HS1_control'][:6])\n",
    "\n",
    "treated = df_transposed['HS1_treated'].iloc[:6]\n",
    "control = df_transposed['HS1_control'].iloc[:6]"
   ]
  },
  {
   "cell_type": "code",
   "execution_count": 74,
   "metadata": {},
   "outputs": [
    {
     "name": "stdout",
     "output_type": "stream",
     "text": [
      "control : AndersonResult(statistic=0.3234850193985688, critical_values=array([0.592, 0.675, 0.809, 0.944, 1.123]), significance_level=array([15. , 10. ,  5. ,  2.5,  1. ]), fit_result=  params: FitParams(loc=33.27777777777778, scale=14.649105648342367)\n",
      " success: True\n",
      " message: '`anderson` successfully fit the distribution to the data.')\n",
      "control : AndersonResult(statistic=0.5503951623647731, critical_values=array([0.592, 0.675, 0.809, 0.944, 1.123]), significance_level=array([15. , 10. ,  5. ,  2.5,  1. ]), fit_result=  params: FitParams(loc=52.388888888888886, scale=33.067215497237456)\n",
      " success: True\n",
      " message: '`anderson` successfully fit the distribution to the data.')\n"
     ]
    }
   ],
   "source": [
    "print(f'control : {anderson(control)}')\n",
    "print(f'control : {anderson(treated)}')\n"
   ]
  },
  {
   "cell_type": "code",
   "execution_count": 75,
   "metadata": {},
   "outputs": [
    {
     "name": "stdout",
     "output_type": "stream",
     "text": [
      "Shapiro-Wilk test for normality - HS1 treated: Statistic = 0.8334945440292358, P-value = 0.11504392325878143\n",
      "Shapiro-Wilk test for normality - HS1 control: Statistic = 0.899553120136261, P-value = 0.37129536271095276\n"
     ]
    }
   ],
   "source": [
    "# Check normality using Shapiro-Wilk test\n",
    "stat_treated, p_value_treated = shapiro(treated)\n",
    "stat_control, p_value_control = shapiro(control)\n",
    "\n",
    "# Print the results\n",
    "print(f'Shapiro-Wilk test for normality - HS1 treated: Statistic = {stat_treated}, P-value = {p_value_treated}')\n",
    "print(f'Shapiro-Wilk test for normality - HS1 control: Statistic = {stat_control}, P-value = {p_value_control}')\n"
   ]
  },
  {
   "cell_type": "markdown",
   "metadata": {},
   "source": [
    "**conclusion** \n",
    "\n",
    "The p-value is above 0.05 thus the data is normally distributed.\n",
    "\n",
    "for the anderson-darling test - for significance level of 0.05: statistic is below the critical value\n",
    "\n",
    "Thus the H0 is not rejected"
   ]
  },
  {
   "cell_type": "code",
   "execution_count": 76,
   "metadata": {},
   "outputs": [
    {
     "name": "stdout",
     "output_type": "stream",
     "text": [
      "Two-sample t-test results for HS1: T-statistic = 1.2943494456999944, P-value = 0.2246352596223862\n"
     ]
    }
   ],
   "source": [
    "# Perform two-sample t-test\n",
    "t_statistic, p_value = ttest_ind(treated, control)\n",
    "\n",
    "# Print the results\n",
    "print(f'Two-sample t-test results for HS1: T-statistic = {t_statistic}, P-value = {p_value}')"
   ]
  },
  {
   "cell_type": "code",
   "execution_count": 77,
   "metadata": {},
   "outputs": [
    {
     "name": "stdout",
     "output_type": "stream",
     "text": [
      "Mann-Whitney U test results for HS1: U-statistic = 25.0, P-value = 0.29710698354709286\n"
     ]
    }
   ],
   "source": [
    "# Perform Mann-Whitney U test\n",
    "u_statistic, p_value = mannwhitneyu(treated, control)\n",
    "\n",
    "# Print the results\n",
    "print(f'Mann-Whitney U test results for HS1: U-statistic = {u_statistic}, P-value = {p_value}')"
   ]
  },
  {
   "cell_type": "markdown",
   "metadata": {},
   "source": [
    "### conclusion"
   ]
  },
  {
   "cell_type": "markdown",
   "metadata": {},
   "source": []
  }
 ],
 "metadata": {
  "kernelspec": {
   "display_name": "dsls",
   "language": "python",
   "name": "python3"
  },
  "language_info": {
   "codemirror_mode": {
    "name": "ipython",
    "version": 3
   },
   "file_extension": ".py",
   "mimetype": "text/x-python",
   "name": "python",
   "nbconvert_exporter": "python",
   "pygments_lexer": "ipython3",
   "version": "3.10.9"
  }
 },
 "nbformat": 4,
 "nbformat_minor": 2
}
