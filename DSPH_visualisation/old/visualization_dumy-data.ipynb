{
 "cells": [
  {
   "cell_type": "markdown",
   "metadata": {},
   "source": [
    "## Data visualization (and statistics)\n",
    "\n",
    "- create mock data for the experiments \n",
    "- make visualizations\n",
    "    - bar graph\n",
    "(- statistical test )"
   ]
  },
  {
   "cell_type": "code",
   "execution_count": null,
   "metadata": {},
   "outputs": [],
   "source": [
    "# imports\n",
    "\n",
    "# data manipulation and processing\n",
    "import pandas as pd\n",
    "import numpy as np\n",
    "\n",
    "# visualizations\n",
    "from bokeh.models import FactorRange, Legend\n",
    "from bokeh.palettes import Colorblind, ColumnDataSource\n",
    "from bokeh.plotting import figure, show, output_notebook\n",
    "\n",
    "output_notebook()\n"
   ]
  },
  {
   "cell_type": "markdown",
   "metadata": {},
   "source": [
    "### create mock data fingerprint experiment"
   ]
  },
  {
   "cell_type": "code",
   "execution_count": null,
   "metadata": {},
   "outputs": [],
   "source": [
    "rows = ['1', '2', '3', '4', '5', '6']\n",
    "columns = ['HS1-C1', 'HS1-C2', 'HS1-C3', 'HS1-1', 'HS1-2', 'HS1-3', 'HS2-C1', 'HS2-C2', 'HS2-C3', 'HS2-1', 'HS2-2', 'HS2-3']\n",
    "\n",
    "df = pd.DataFrame(np.random.randint(0, 150, size=(6, 12)), columns=columns, index=rows)"
   ]
  },
  {
   "cell_type": "code",
   "execution_count": null,
   "metadata": {},
   "outputs": [],
   "source": [
    "df"
   ]
  },
  {
   "cell_type": "code",
   "execution_count": null,
   "metadata": {},
   "outputs": [],
   "source": [
    "# get the mean for each triplicate\n",
    "df['HS1_S'] = df[df.columns[df.columns.str.contains('HS1-\\d+')]].mean(axis=1)\n",
    "df['HS1_C'] = df[df.columns[df.columns.str.contains('HS1-C')]].mean(axis=1)\n",
    "df['HS2_S'] = df[df.columns[df.columns.str.contains('HS2-\\d+')]].mean(axis=1)\n",
    "df['HS2_C'] = df[df.columns[df.columns.str.contains('HS2-C')]].mean(axis=1) \n",
    "\n",
    "df_res = df.iloc[:, -4:].T\n",
    "df_res['count'] = df_res[df_res.columns].mean(axis=1)\n",
    "\n",
    "df_res"
   ]
  },
  {
   "cell_type": "code",
   "execution_count": null,
   "metadata": {},
   "outputs": [],
   "source": [
    "df_res.reset_index(inplace=True)\n",
    "df_res[['HS', 'sample_type']] = df_res['index'].str.split('_', n=1, expand=True)\n",
    "df_res.drop(['index'], axis=1, inplace=True)"
   ]
  },
  {
   "cell_type": "markdown",
   "metadata": {},
   "source": [
    "## visualization"
   ]
  },
  {
   "cell_type": "code",
   "execution_count": null,
   "metadata": {},
   "outputs": [],
   "source": [
    "df_res['sample_type'] = df_res['sample_type'].map({'S': 'treated', 'C': 'control'})\n",
    "df_res['x'] = df_res[['HS', 'sample_type']].apply(lambda x: (x[0],str(x[1])), axis=1)\n",
    "df_res"
   ]
  },
  {
   "cell_type": "code",
   "execution_count": null,
   "metadata": {},
   "outputs": [],
   "source": [
    "# nested bar graph: https://stackoverflow.com/questions/67901133/create-nested-bar-graph-in-bokeh-from-a-dataframe\n",
    "# legend append: https://stackoverflow.com/questions/46730609/position-the-legend-outside-the-plot-area-with-bokeh\n",
    "\n",
    "p = figure(\n",
    "    x_range=FactorRange(*list(df_res[\"x\"].unique())),\n",
    "    width=500\n",
    ")\n",
    "\n",
    "factors = df_res['sample_type'].unique()\n",
    "\n",
    "# Manually specify colors for each factor\n",
    "colors = Colorblind[3][:len(factors)]\n",
    "\n",
    "legend_items = []\n",
    "for i, factor in enumerate(factors):\n",
    "    source = df_res[df_res['sample_type'] == factor]\n",
    "    vbar = p.vbar(x='x', top='count', width=0.9, source=source,\n",
    "                  color=colors[i])\n",
    "    legend_items.append((factor, [vbar]))\n",
    "\n",
    "p.y_range.start = 0\n",
    "p.y_range.end = df_res['count'].max() * 1.2\n",
    "p.x_range.range_padding = 0.25\n",
    "\n",
    "p.title = \"Number of colonies per handsanitizer\"\n",
    "p.title.text_font_size = '15px'\n",
    "p.yaxis.axis_label = \"Number of colonies\"\n",
    "p.xaxis.axis_label = \"Hand Sanitizers\"\n",
    "p.xgrid.grid_line_color = None\n",
    "\n",
    "# Create a legend\n",
    "legend = Legend(items=legend_items, location=\"top_center\")\n",
    "legend.label_text_font_size = \"12px\"\n",
    "legend.spacing = 5\n",
    "legend.click_policy = \"hide\"  \n",
    "\n",
    "p.add_layout(legend, 'below')\n",
    "\n",
    "# Show the plot\n",
    "show(p)\n"
   ]
  },
  {
   "cell_type": "code",
   "execution_count": null,
   "metadata": {},
   "outputs": [],
   "source": []
  }
 ],
 "metadata": {
  "kernelspec": {
   "display_name": "dsls",
   "language": "python",
   "name": "python3"
  },
  "language_info": {
   "codemirror_mode": {
    "name": "ipython",
    "version": 3
   },
   "file_extension": ".py",
   "mimetype": "text/x-python",
   "name": "python",
   "nbconvert_exporter": "python",
   "pygments_lexer": "ipython3",
   "version": "3.10.9"
  }
 },
 "nbformat": 4,
 "nbformat_minor": 2
}
