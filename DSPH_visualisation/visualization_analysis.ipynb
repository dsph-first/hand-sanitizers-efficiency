{
 "cells": [
  {
   "cell_type": "markdown",
   "metadata": {},
   "source": [
    "## Data visualization (and statistics)\n",
    "\n",
    "Visualization and analysis for the fingerprint experiment (hand sanitizer project DSPH). \n",
    "\n",
    "Improvements:\n",
    "- add error bar   \n",
    "- create function for the bar graph code\n",
    "- make function incorporation test for normality and significance testing\n"
   ]
  },
  {
   "cell_type": "code",
   "execution_count": null,
   "metadata": {},
   "outputs": [],
   "source": [
    "# imports\n",
    "\n",
    "# data manipulation and processing\n",
    "import pandas as pd\n",
    "\n",
    "# visualizations\n",
    "from bokeh.models import FactorRange, Legend, ColumnDataSource, Whisker, LegendItem\n",
    "from bokeh.palettes import Colorblind\n",
    "from bokeh.plotting import figure, show, output_notebook, output_file\n",
    "\n",
    "# statistics\n",
    "from scipy.stats import ttest_ind, mannwhitneyu, anderson, shapiro\n",
    "\n",
    "output_file('results.html')\n"
   ]
  },
  {
   "cell_type": "markdown",
   "metadata": {},
   "source": [
    "### import data fingerprint experiment"
   ]
  },
  {
   "cell_type": "code",
   "execution_count": null,
   "metadata": {},
   "outputs": [],
   "source": [
    "df = pd.read_excel('fingerprinting.xlsx')\n",
    "df.set_index('experiment', inplace=True)\n",
    "df = df.transpose()\n",
    "df"
   ]
  },
  {
   "cell_type": "code",
   "execution_count": null,
   "metadata": {},
   "outputs": [],
   "source": [
    "# get the mean for each triplicate\n",
    "df['HS1_S'] = df[df.columns[df.columns.str.contains('HS1-\\d+')]].mean(axis=1)\n",
    "df['HS1_C'] = df[df.columns[df.columns.str.contains('HS1-C\\d+')]].mean(axis=1)\n",
    "#df['HS2_S'] = df[df.columns[df.columns.str.contains('HS2-\\d+')]].mean(axis=1)\n",
    "#df['HS2_C'] = df[df.columns[df.columns.str.contains('HS2-C')]].mean(axis=1)  \n",
    "\n",
    "df_res = df.iloc[:, -2:].T # change depending on the number of HS (# HS * 2)\n",
    "df_res['count'] = df_res[df_res.columns].mean(axis=1)\n",
    "\n",
    "df_res\n",
    "\n"
   ]
  },
  {
   "cell_type": "code",
   "execution_count": null,
   "metadata": {},
   "outputs": [],
   "source": [
    "df_res.reset_index(inplace=True)\n",
    "df_res[['HS', 'sample_type']] = df_res['experiment'].str.split('_', n=1, expand=True)\n",
    "df_res.drop(['experiment'], axis=1, inplace=True)\n"
   ]
  },
  {
   "cell_type": "code",
   "execution_count": null,
   "metadata": {},
   "outputs": [],
   "source": [
    "df_res"
   ]
  },
  {
   "cell_type": "code",
   "execution_count": null,
   "metadata": {},
   "outputs": [],
   "source": [
    "df_res['std_dev'] = df_res.iloc[:, :5].std(axis=1)\n"
   ]
  },
  {
   "cell_type": "markdown",
   "metadata": {},
   "source": [
    "## visualization"
   ]
  },
  {
   "cell_type": "code",
   "execution_count": null,
   "metadata": {},
   "outputs": [],
   "source": [
    "df_res['sample_type'] = df_res['sample_type'].map({'S': 'treated', 'C': 'control'})\n",
    "df_res['x'] = df_res.apply(lambda row: (row['HS'], str(row['sample_type'])), axis=1)"
   ]
  },
  {
   "cell_type": "code",
   "execution_count": null,
   "metadata": {},
   "outputs": [],
   "source": [
    "df_res"
   ]
  },
  {
   "cell_type": "code",
   "execution_count": null,
   "metadata": {},
   "outputs": [],
   "source": [
    "# nested bar graph: https://stackoverflow.com/questions/67901133/create-nested-bar-graph-in-bokeh-from-a-dataframe\n",
    "# legend append: https://stackoverflow.com/questions/46730609/position-the-legend-outside-the-plot-area-with-bokeh\n",
    "\n",
    "def nested_bar(df, sample_col, value_col, tuple_experiment):\n",
    "    '''\n",
    "    Function to create a nested bar graph using bokeh. \n",
    "\n",
    "    Args:\n",
    "        df                pandas dataframe containing sample ID and column with mean counts.\n",
    "        sample_col        column containing experiment type (e.g. treated and control) (str)\n",
    "        value_col         column with the count data (str)\n",
    "        tuple_experiment  column containing a tuple with (experiment number, sample type) e.g. (HS1, treated) (str)\n",
    "\n",
    "    TODO:\n",
    "        - add possibility to change title and axis names when calling function\n",
    "        - add checks to make sure the arguments are of the correct type\n",
    "        - add error bars\n",
    "    '''\n",
    "\n",
    "    df.columns = df.columns.astype(str)\n",
    "\n",
    "    p = figure(\n",
    "        x_range=FactorRange(*list(df[tuple_experiment].unique())),\n",
    "        width=500\n",
    "    )\n",
    "\n",
    "    factors = df[sample_col].unique()\n",
    "\n",
    "    # Manually specify colors for each factor\n",
    "    colors = Colorblind[3][:len(factors)]\n",
    "\n",
    "    legend_items = []\n",
    "\n",
    "    for i, factor in enumerate(factors):\n",
    "        source = ColumnDataSource(df[df[sample_col] == factor])\n",
    "        \n",
    "        vbar = p.vbar(x=tuple_experiment, top=value_col, width=0.9, source=source,\n",
    "                    color=colors[i])\n",
    "        legend_items.append((factor, [vbar]))\n",
    "\n",
    "\n",
    "    p.y_range.start = 0\n",
    "    p.y_range.end = df[value_col].max() * 1.2\n",
    "    p.x_range.range_padding = 0.25\n",
    "\n",
    "    p.title = \"Number of colonies per handsanitizer\"\n",
    "    p.title.text_font_size = '15px'\n",
    "    p.yaxis.axis_label = \"Number of colonies\"\n",
    "    p.xaxis.axis_label = \"Hand Sanitizers\"\n",
    "    p.xgrid.grid_line_color = None\n",
    "\n",
    "    # Create a legend\n",
    "    legend = Legend(items=legend_items, location=\"top_center\")\n",
    "    legend.label_text_font_size = \"12px\"\n",
    "    legend.spacing = 5\n",
    "    legend.click_policy = \"hide\"  \n",
    "\n",
    "    p.add_layout(legend, 'below')\n",
    "\n",
    "    # Show the plot\n",
    "    show(p)\n",
    "\n"
   ]
  },
  {
   "cell_type": "code",
   "execution_count": null,
   "metadata": {},
   "outputs": [],
   "source": [
    "nested_bar(df_res, 'sample_type', 'count', 'x')"
   ]
  },
  {
   "cell_type": "code",
   "execution_count": null,
   "metadata": {},
   "outputs": [],
   "source": [
    "# prepare for statistics\n",
    "# Create a new column by combining 'HS' and 'sample_type'\n",
    "df_res['HS_sample_type'] = df_res['HS'] + '_' + df_res['sample_type']\n",
    "\n",
    "df_res.set_index('HS_sample_type', inplace=True)\n",
    "df_transposed = df_res.T\n",
    "df_transposed.reset_index(inplace=True)\n",
    "\n",
    "# Convert 'HS1_treated' and 'HS1_control' to numeric\n",
    "df_transposed['HS1_treated'] = pd.to_numeric(df_transposed['HS1_treated'][:6])\n",
    "df_transposed['HS1_control'] = pd.to_numeric(df_transposed['HS1_control'][:6])\n",
    "\n",
    "treated = df_transposed['HS1_treated'].iloc[:6]\n",
    "control = df_transposed['HS1_control'].iloc[:6]"
   ]
  },
  {
   "cell_type": "code",
   "execution_count": null,
   "metadata": {},
   "outputs": [],
   "source": [
    "print(f'control : {anderson(control)}')\n",
    "print(f'control : {anderson(treated)}')\n"
   ]
  },
  {
   "cell_type": "code",
   "execution_count": null,
   "metadata": {},
   "outputs": [],
   "source": [
    "# Check normality using Shapiro-Wilk test\n",
    "stat_treated, p_value_treated = shapiro(treated)\n",
    "stat_control, p_value_control = shapiro(control)\n",
    "\n",
    "# Print the results\n",
    "print(f'Shapiro-Wilk test for normality - HS1 treated: Statistic = {stat_treated}, P-value = {p_value_treated}')\n",
    "print(f'Shapiro-Wilk test for normality - HS1 control: Statistic = {stat_control}, P-value = {p_value_control}')\n"
   ]
  },
  {
   "cell_type": "markdown",
   "metadata": {},
   "source": [
    "**conclusion** \n",
    "\n",
    "The p-value is above 0.05 thus the data is normally distributed.\n",
    "\n",
    "for the anderson-darling test - for significance level of 0.05: statistic is below the critical value\n",
    "\n",
    "Thus the H0 is not rejected"
   ]
  },
  {
   "cell_type": "code",
   "execution_count": null,
   "metadata": {},
   "outputs": [],
   "source": [
    "# Perform two-sample t-test\n",
    "t_statistic, p_value = ttest_ind(treated, control)\n",
    "\n",
    "# Print the results\n",
    "print(f'Two-sample t-test results for HS1: T-statistic = {t_statistic}, P-value = {p_value}')"
   ]
  },
  {
   "cell_type": "code",
   "execution_count": null,
   "metadata": {},
   "outputs": [],
   "source": [
    "# Perform Mann-Whitney U test\n",
    "u_statistic, p_value = mannwhitneyu(treated, control)\n",
    "\n",
    "# Print the results\n",
    "print(f'Mann-Whitney U test results for HS1: U-statistic = {u_statistic}, P-value = {p_value}')"
   ]
  },
  {
   "cell_type": "markdown",
   "metadata": {},
   "source": [
    "# conclusion\n",
    "p-value is 0.225 for the t-test (T-statistic = 1.29) thus there is no significant difference between the efficacy of the hand sanitizer and the control (washing with water and soap)."
   ]
  }
 ],
 "metadata": {
  "kernelspec": {
   "display_name": "dsls",
   "language": "python",
   "name": "python3"
  },
  "language_info": {
   "codemirror_mode": {
    "name": "ipython",
    "version": 3
   },
   "file_extension": ".py",
   "mimetype": "text/x-python",
   "name": "python",
   "nbconvert_exporter": "python",
   "pygments_lexer": "ipython3",
   "version": "3.9.13"
  }
 },
 "nbformat": 4,
 "nbformat_minor": 2
}
