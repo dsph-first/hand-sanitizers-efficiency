{
 "cells": [
  {
   "cell_type": "markdown",
   "metadata": {},
   "source": [
    "# Notes by Daniil Gorokhov."
   ]
  },
  {
   "cell_type": "markdown",
   "metadata": {},
   "source": [
    "The FASTA format is the \"workhorse\" of bioinformatics. It is used to represent sequence information. The format is deceivingly simple:\n",
    "A > symbol on the FASTA header line indicates a fasta record start.\n",
    "A string of letters called the sequence id may follow the > symbol.\n",
    "The header line may contain an arbitrary amount of text (including spaces) on the same line. Subsequent lines contain the sequence.\n",
    "The sequence is assumed to come from an alphabet that corresponds to a biological entity. For example, the standard alphabet for nucleotides would contain: ATGC . An extended alphabet may also contain the N symbol to indicate a base that could be any of ATGCN . A different extension of a nucleotide alphabet\n",
    "may allow extended symbols such as W that corresponds to nucleotide that is either an A or T etc. Gaps may be represented via . or - symbols. Search the web for \"IUPAC nucleotides\" to get a list of all such symbols that may be included in an alphabet. The same rationale needs to be followed by protein alphabets. The following is a FASTA file with two FASTA records:\n"
   ]
  },
  {
   "cell_type": "markdown",
   "metadata": {},
   "source": [
    "#### Step-by-Step Process:\n",
    "**1. DNA Extraction and Sequencing:**\n",
    "\n",
    "Extract DNA from your samples (before and after using the sanitizer).\n",
    "Sequence the DNA using a method such as Next-Generation Sequencing (NGS).\n",
    "\n",
    "**2. Quality Control:**\n",
    "\n",
    "Use tools like FastQC to assess the quality of the sequenced data.\n",
    "Preprocess the data, which may include trimming of low-quality bases and removal of adapters (tools: Trimmomatic, Cutadapt).\n",
    "\n",
    "**3. Sequence Alignment or Mapping:**\n",
    "\n",
    "Align or map the sequenced reads to reference microbial genomes to identify which microbes are present.\n",
    "Tools: Bowtie2, BWA (for alignment); Kraken, Centrifuge (for taxonomic classification).\n",
    "Quantification of Microbial DNA:\n",
    "\n",
    "**4. Quantify the abundance of different microbes in the samples.**\n",
    "\n",
    "Tools: FeatureCounts, HTSeq (for counting); QIIME2, MetaPhlAn (for metagenomic analysis).\n",
    "\n",
    "**5. Data Analysis:**\n",
    "\n",
    "Compare the microbial profiles before and after using the sanitizer.\n",
    "Look for significant reductions in microbial abundance as an indicator of sanitizer effectiveness."
   ]
  },
  {
   "cell_type": "markdown",
   "metadata": {},
   "source": [
    "### Key Bioinformatics Tools:\n",
    "\n",
    "\n",
    "**BLAST:** BLAST (Basic Local Alignment Search Tool) can be used for identifying bacterial or viral sequences in your samples by comparing them to known sequences in the BLAST database. However, BLAST is more commonly used for individual sequence queries rather than high-throughput sequencing data.\n",
    "\n",
    "**QIIME2:** A popular tool for analyzing and interpreting microbial communities sequenced via metagenomics methods. It's highly suitable for comparing microbial diversity in different samples.\n",
    "\n",
    "**MetaPhlAn:** A tool for profiling the composition of microbial communities from metagenomic sequencing data. It's useful for quantifying which microbes are present in your samples and their relative abundances.\n",
    "\n",
    "**Kraken/Centrifuge:** These tools are designed for quickly classifying sequences from metagenomic datasets. They can tell you what organisms the sequences in your sample likely belong to."
   ]
  },
  {
   "cell_type": "markdown",
   "metadata": {},
   "source": [
    "#### Trimming\n",
    "The sequence trimming is often necessary in QC to remove adapters and low-quality sequences, improving the accuracy of subsequent analyses."
   ]
  }
 ],
 "metadata": {
  "language_info": {
   "name": "python"
  },
  "orig_nbformat": 4
 },
 "nbformat": 4,
 "nbformat_minor": 2
}
