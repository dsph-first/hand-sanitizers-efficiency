{
 "cells": [
  {
   "cell_type": "code",
   "execution_count": 1,
   "metadata": {},
   "outputs": [],
   "source": [
    "from bs4 import BeautifulSoup"
   ]
  },
  {
   "cell_type": "code",
   "execution_count": 2,
   "metadata": {},
   "outputs": [],
   "source": [
    "from glob import glob"
   ]
  },
  {
   "cell_type": "code",
   "execution_count": 3,
   "metadata": {
    "colab": {
     "base_uri": "https://localhost:8080/"
    },
    "executionInfo": {
     "elapsed": 264,
     "status": "ok",
     "timestamp": 1707558745257,
     "user": {
      "displayName": "Олеся Галанова",
      "userId": "18019542387888664435"
     },
     "user_tz": -180
    },
    "id": "OE3dYzAx_2bm",
    "outputId": "ab470037-d316-4412-a5fd-374e799918ad"
   },
   "outputs": [],
   "source": [
    "st = []\n",
    "bt = []\n",
    "for filename in glob('*.html'):\n",
    "    with open(filename, 'r') as file:\n",
    "        html_code = file.read()\n",
    "\n",
    "        soup = BeautifulSoup(html_code, 'html.parser')\n",
    "        text = soup.get_text()\n",
    "        text = text.split(' ')\n",
    "\n",
    "        s_t = text[36]\n",
    "        numbers_36 = ''.join(c if c.isdigit() else ' ' for c in s_t).split()\n",
    "        numbers = int(*numbers_36)\n",
    "        st.append(numbers)\n",
    "\n",
    "        b_t = text[37]\n",
    "        numbers_37 = ''.join(c if c.isdigit() else ' ' for c in b_t).split()\n",
    "        string_37 = ' '.join(numbers_37)\n",
    "        string_37 = string_37.replace(' ', '.')\n",
    "        numbers_37 = string_37.split('\\t')\n",
    "        numbers_ = float(*numbers_37)\n",
    "        bt.append(numbers_)"
   ]
  },
  {
   "cell_type": "code",
   "execution_count": 4,
   "metadata": {},
   "outputs": [
    {
     "name": "stdout",
     "output_type": "stream",
     "text": [
      "[]\n"
     ]
    }
   ],
   "source": [
    "st_wet = []\n",
    "for i in range(0, len(st), 2):\n",
    "    sum = st[i] + st[i+1]\n",
    "    st_wet.append(sum)\n",
    "\n",
    "print(st_wet)"
   ]
  },
  {
   "cell_type": "code",
   "execution_count": 5,
   "metadata": {},
   "outputs": [
    {
     "name": "stdout",
     "output_type": "stream",
     "text": [
      "[]\n"
     ]
    }
   ],
   "source": [
    "bt_wet = []\n",
    "for i in range(0, len(bt), 2):\n",
    "    su_m = bt[i] + bt[i+1]\n",
    "    bt_wet.append(su_m)\n",
    "\n",
    "print(bt_wet)"
   ]
  },
  {
   "cell_type": "code",
   "execution_count": 6,
   "metadata": {},
   "outputs": [
    {
     "name": "stdout",
     "output_type": "stream",
     "text": [
      "[]\n"
     ]
    }
   ],
   "source": [
    "st_trimmed = []\n",
    "for i in range(0, len(st), 2):\n",
    "    sum = st[i] + st[i+1]\n",
    "    st_trimmed.append(sum)\n",
    "\n",
    "print(st_trimmed)"
   ]
  },
  {
   "cell_type": "code",
   "execution_count": 7,
   "metadata": {},
   "outputs": [
    {
     "name": "stdout",
     "output_type": "stream",
     "text": [
      "[]\n"
     ]
    }
   ],
   "source": [
    "bt_trimmed = []\n",
    "for i in range(0, len(bt), 2):\n",
    "    su_m = bt[i] + bt[i+1]\n",
    "    bt_trimmed.append(su_m)\n",
    "\n",
    "print(bt_trimmed)"
   ]
  },
  {
   "cell_type": "code",
   "execution_count": 8,
   "metadata": {},
   "outputs": [
    {
     "name": "stdout",
     "output_type": "stream",
     "text": [
      "[]\n"
     ]
    }
   ],
   "source": [
    "st_mapping = []\n",
    "for i in range(0, len(st), 2):\n",
    "    sum = st[i] + st[i+1]\n",
    "    st_mapping.append(sum)\n",
    "\n",
    "print(st_mapping)"
   ]
  },
  {
   "cell_type": "code",
   "execution_count": 9,
   "metadata": {},
   "outputs": [
    {
     "name": "stdout",
     "output_type": "stream",
     "text": [
      "[]\n"
     ]
    }
   ],
   "source": [
    "bt_mapping = []\n",
    "for i in range(0, len(bt), 2):\n",
    "    su_m = bt[i] + bt[i+1]\n",
    "    bt_mapping.append(su_m)\n",
    "\n",
    "print(bt_mapping)"
   ]
  },
  {
   "cell_type": "code",
   "execution_count": 10,
   "metadata": {},
   "outputs": [],
   "source": [
    "sample_number = []\n",
    "for i in range (6613, 6732):\n",
    "  new_sample = f\"SRR1330{i}\"\n",
    "  sample_number.append(new_sample)"
   ]
  },
  {
   "cell_type": "code",
   "execution_count": 11,
   "metadata": {},
   "outputs": [],
   "source": [
    "import pandas as pd"
   ]
  },
  {
   "cell_type": "code",
   "execution_count": 80,
   "metadata": {},
   "outputs": [
    {
     "data": {
      "text/html": [
       "<div>\n",
       "<style scoped>\n",
       "    .dataframe tbody tr th:only-of-type {\n",
       "        vertical-align: middle;\n",
       "    }\n",
       "\n",
       "    .dataframe tbody tr th {\n",
       "        vertical-align: top;\n",
       "    }\n",
       "\n",
       "    .dataframe thead th {\n",
       "        text-align: right;\n",
       "    }\n",
       "</style>\n",
       "<table border=\"1\" class=\"dataframe\">\n",
       "  <thead>\n",
       "    <tr style=\"text-align: right;\">\n",
       "      <th></th>\n",
       "      <th>sample_number</th>\n",
       "      <th>total_seq_wet</th>\n",
       "      <th>total_seq_trimmed</th>\n",
       "      <th>total_seq_cont</th>\n",
       "      <th>total_bases_wet</th>\n",
       "      <th>total_bases_trimmed</th>\n",
       "      <th>total_bases_cont</th>\n",
       "    </tr>\n",
       "  </thead>\n",
       "  <tbody>\n",
       "    <tr>\n",
       "      <th>0</th>\n",
       "      <td>SRR13306613</td>\n",
       "      <td>170680</td>\n",
       "      <td>163134</td>\n",
       "      <td>163134</td>\n",
       "      <td>51.2</td>\n",
       "      <td>43.2</td>\n",
       "      <td>43.2</td>\n",
       "    </tr>\n",
       "    <tr>\n",
       "      <th>1</th>\n",
       "      <td>SRR13306614</td>\n",
       "      <td>212534</td>\n",
       "      <td>204264</td>\n",
       "      <td>204264</td>\n",
       "      <td>63.8</td>\n",
       "      <td>55.0</td>\n",
       "      <td>55.0</td>\n",
       "    </tr>\n",
       "    <tr>\n",
       "      <th>2</th>\n",
       "      <td>SRR13306615</td>\n",
       "      <td>179930</td>\n",
       "      <td>171816</td>\n",
       "      <td>171816</td>\n",
       "      <td>54.0</td>\n",
       "      <td>45.4</td>\n",
       "      <td>45.4</td>\n",
       "    </tr>\n",
       "    <tr>\n",
       "      <th>3</th>\n",
       "      <td>SRR13306616</td>\n",
       "      <td>306460</td>\n",
       "      <td>293990</td>\n",
       "      <td>293990</td>\n",
       "      <td>92.0</td>\n",
       "      <td>78.4</td>\n",
       "      <td>78.4</td>\n",
       "    </tr>\n",
       "    <tr>\n",
       "      <th>4</th>\n",
       "      <td>SRR13306617</td>\n",
       "      <td>203366</td>\n",
       "      <td>195254</td>\n",
       "      <td>195254</td>\n",
       "      <td>61.0</td>\n",
       "      <td>51.2</td>\n",
       "      <td>51.2</td>\n",
       "    </tr>\n",
       "    <tr>\n",
       "      <th>...</th>\n",
       "      <td>...</td>\n",
       "      <td>...</td>\n",
       "      <td>...</td>\n",
       "      <td>...</td>\n",
       "      <td>...</td>\n",
       "      <td>...</td>\n",
       "      <td>...</td>\n",
       "    </tr>\n",
       "    <tr>\n",
       "      <th>114</th>\n",
       "      <td>SRR13306727</td>\n",
       "      <td>272296</td>\n",
       "      <td>260728</td>\n",
       "      <td>260728</td>\n",
       "      <td>81.7</td>\n",
       "      <td>69.1</td>\n",
       "      <td>69.1</td>\n",
       "    </tr>\n",
       "    <tr>\n",
       "      <th>115</th>\n",
       "      <td>SRR13306728</td>\n",
       "      <td>212348</td>\n",
       "      <td>202632</td>\n",
       "      <td>202632</td>\n",
       "      <td>63.7</td>\n",
       "      <td>53.4</td>\n",
       "      <td>53.4</td>\n",
       "    </tr>\n",
       "    <tr>\n",
       "      <th>116</th>\n",
       "      <td>SRR13306729</td>\n",
       "      <td>178412</td>\n",
       "      <td>171824</td>\n",
       "      <td>171824</td>\n",
       "      <td>53.5</td>\n",
       "      <td>46.1</td>\n",
       "      <td>46.1</td>\n",
       "    </tr>\n",
       "    <tr>\n",
       "      <th>117</th>\n",
       "      <td>SRR13306730</td>\n",
       "      <td>176754</td>\n",
       "      <td>169648</td>\n",
       "      <td>169648</td>\n",
       "      <td>53.0</td>\n",
       "      <td>44.5</td>\n",
       "      <td>44.5</td>\n",
       "    </tr>\n",
       "    <tr>\n",
       "      <th>118</th>\n",
       "      <td>SRR13306731</td>\n",
       "      <td>356564</td>\n",
       "      <td>340198</td>\n",
       "      <td>340198</td>\n",
       "      <td>107.1</td>\n",
       "      <td>90.0</td>\n",
       "      <td>90.0</td>\n",
       "    </tr>\n",
       "  </tbody>\n",
       "</table>\n",
       "<p>119 rows × 7 columns</p>\n",
       "</div>"
      ],
      "text/plain": [
       "    sample_number  total_seq_wet  total_seq_trimmed  total_seq_cont  \\\n",
       "0     SRR13306613         170680             163134          163134   \n",
       "1     SRR13306614         212534             204264          204264   \n",
       "2     SRR13306615         179930             171816          171816   \n",
       "3     SRR13306616         306460             293990          293990   \n",
       "4     SRR13306617         203366             195254          195254   \n",
       "..            ...            ...                ...             ...   \n",
       "114   SRR13306727         272296             260728          260728   \n",
       "115   SRR13306728         212348             202632          202632   \n",
       "116   SRR13306729         178412             171824          171824   \n",
       "117   SRR13306730         176754             169648          169648   \n",
       "118   SRR13306731         356564             340198          340198   \n",
       "\n",
       "     total_bases_wet  total_bases_trimmed  total_bases_cont  \n",
       "0               51.2                 43.2              43.2  \n",
       "1               63.8                 55.0              55.0  \n",
       "2               54.0                 45.4              45.4  \n",
       "3               92.0                 78.4              78.4  \n",
       "4               61.0                 51.2              51.2  \n",
       "..               ...                  ...               ...  \n",
       "114             81.7                 69.1              69.1  \n",
       "115             63.7                 53.4              53.4  \n",
       "116             53.5                 46.1              46.1  \n",
       "117             53.0                 44.5              44.5  \n",
       "118            107.1                 90.0              90.0  \n",
       "\n",
       "[119 rows x 7 columns]"
      ]
     },
     "execution_count": 80,
     "metadata": {},
     "output_type": "execute_result"
    }
   ],
   "source": [
    "df_sample = pd.DataFrame({'sample_number': sample_number, 'total_seq_wet': st_wet, 'total_seq_trimmed': st_trimmed, 'total_seq_cont': st_mapping, 'total_bases_wet': bt_wet, 'total_bases_trimmed': bt_trimmed, 'total_bases_cont': bt_mapping})\n",
    "df_sample"
   ]
  },
  {
   "cell_type": "code",
   "execution_count": 81,
   "metadata": {},
   "outputs": [],
   "source": [
    "df_sample = df_sample[df_sample['total_seq_cont']/df_sample['total_seq_wet'] >= 0.6]\n",
    "df_sample = df_sample[df_sample['total_bases_cont']/df_sample['total_bases_wet'] >= 0.6]"
   ]
  },
  {
   "cell_type": "code",
   "execution_count": 82,
   "metadata": {},
   "outputs": [
    {
     "data": {
      "text/html": [
       "<div>\n",
       "<style scoped>\n",
       "    .dataframe tbody tr th:only-of-type {\n",
       "        vertical-align: middle;\n",
       "    }\n",
       "\n",
       "    .dataframe tbody tr th {\n",
       "        vertical-align: top;\n",
       "    }\n",
       "\n",
       "    .dataframe thead th {\n",
       "        text-align: right;\n",
       "    }\n",
       "</style>\n",
       "<table border=\"1\" class=\"dataframe\">\n",
       "  <thead>\n",
       "    <tr style=\"text-align: right;\">\n",
       "      <th></th>\n",
       "      <th>sample_number</th>\n",
       "      <th>total_seq_wet</th>\n",
       "      <th>total_seq_trimmed</th>\n",
       "      <th>total_seq_cont</th>\n",
       "      <th>total_bases_wet</th>\n",
       "      <th>total_bases_trimmed</th>\n",
       "      <th>total_bases_cont</th>\n",
       "    </tr>\n",
       "  </thead>\n",
       "  <tbody>\n",
       "    <tr>\n",
       "      <th>0</th>\n",
       "      <td>SRR13306613</td>\n",
       "      <td>170680</td>\n",
       "      <td>163134</td>\n",
       "      <td>163134</td>\n",
       "      <td>51.2</td>\n",
       "      <td>43.2</td>\n",
       "      <td>43.2</td>\n",
       "    </tr>\n",
       "    <tr>\n",
       "      <th>1</th>\n",
       "      <td>SRR13306614</td>\n",
       "      <td>212534</td>\n",
       "      <td>204264</td>\n",
       "      <td>204264</td>\n",
       "      <td>63.8</td>\n",
       "      <td>55.0</td>\n",
       "      <td>55.0</td>\n",
       "    </tr>\n",
       "    <tr>\n",
       "      <th>2</th>\n",
       "      <td>SRR13306615</td>\n",
       "      <td>179930</td>\n",
       "      <td>171816</td>\n",
       "      <td>171816</td>\n",
       "      <td>54.0</td>\n",
       "      <td>45.4</td>\n",
       "      <td>45.4</td>\n",
       "    </tr>\n",
       "    <tr>\n",
       "      <th>3</th>\n",
       "      <td>SRR13306616</td>\n",
       "      <td>306460</td>\n",
       "      <td>293990</td>\n",
       "      <td>293990</td>\n",
       "      <td>92.0</td>\n",
       "      <td>78.4</td>\n",
       "      <td>78.4</td>\n",
       "    </tr>\n",
       "    <tr>\n",
       "      <th>4</th>\n",
       "      <td>SRR13306617</td>\n",
       "      <td>203366</td>\n",
       "      <td>195254</td>\n",
       "      <td>195254</td>\n",
       "      <td>61.0</td>\n",
       "      <td>51.2</td>\n",
       "      <td>51.2</td>\n",
       "    </tr>\n",
       "    <tr>\n",
       "      <th>...</th>\n",
       "      <td>...</td>\n",
       "      <td>...</td>\n",
       "      <td>...</td>\n",
       "      <td>...</td>\n",
       "      <td>...</td>\n",
       "      <td>...</td>\n",
       "      <td>...</td>\n",
       "    </tr>\n",
       "    <tr>\n",
       "      <th>114</th>\n",
       "      <td>SRR13306727</td>\n",
       "      <td>272296</td>\n",
       "      <td>260728</td>\n",
       "      <td>260728</td>\n",
       "      <td>81.7</td>\n",
       "      <td>69.1</td>\n",
       "      <td>69.1</td>\n",
       "    </tr>\n",
       "    <tr>\n",
       "      <th>115</th>\n",
       "      <td>SRR13306728</td>\n",
       "      <td>212348</td>\n",
       "      <td>202632</td>\n",
       "      <td>202632</td>\n",
       "      <td>63.7</td>\n",
       "      <td>53.4</td>\n",
       "      <td>53.4</td>\n",
       "    </tr>\n",
       "    <tr>\n",
       "      <th>116</th>\n",
       "      <td>SRR13306729</td>\n",
       "      <td>178412</td>\n",
       "      <td>171824</td>\n",
       "      <td>171824</td>\n",
       "      <td>53.5</td>\n",
       "      <td>46.1</td>\n",
       "      <td>46.1</td>\n",
       "    </tr>\n",
       "    <tr>\n",
       "      <th>117</th>\n",
       "      <td>SRR13306730</td>\n",
       "      <td>176754</td>\n",
       "      <td>169648</td>\n",
       "      <td>169648</td>\n",
       "      <td>53.0</td>\n",
       "      <td>44.5</td>\n",
       "      <td>44.5</td>\n",
       "    </tr>\n",
       "    <tr>\n",
       "      <th>118</th>\n",
       "      <td>SRR13306731</td>\n",
       "      <td>356564</td>\n",
       "      <td>340198</td>\n",
       "      <td>340198</td>\n",
       "      <td>107.1</td>\n",
       "      <td>90.0</td>\n",
       "      <td>90.0</td>\n",
       "    </tr>\n",
       "  </tbody>\n",
       "</table>\n",
       "<p>119 rows × 7 columns</p>\n",
       "</div>"
      ],
      "text/plain": [
       "    sample_number  total_seq_wet  total_seq_trimmed  total_seq_cont  \\\n",
       "0     SRR13306613         170680             163134          163134   \n",
       "1     SRR13306614         212534             204264          204264   \n",
       "2     SRR13306615         179930             171816          171816   \n",
       "3     SRR13306616         306460             293990          293990   \n",
       "4     SRR13306617         203366             195254          195254   \n",
       "..            ...            ...                ...             ...   \n",
       "114   SRR13306727         272296             260728          260728   \n",
       "115   SRR13306728         212348             202632          202632   \n",
       "116   SRR13306729         178412             171824          171824   \n",
       "117   SRR13306730         176754             169648          169648   \n",
       "118   SRR13306731         356564             340198          340198   \n",
       "\n",
       "     total_bases_wet  total_bases_trimmed  total_bases_cont  \n",
       "0               51.2                 43.2              43.2  \n",
       "1               63.8                 55.0              55.0  \n",
       "2               54.0                 45.4              45.4  \n",
       "3               92.0                 78.4              78.4  \n",
       "4               61.0                 51.2              51.2  \n",
       "..               ...                  ...               ...  \n",
       "114             81.7                 69.1              69.1  \n",
       "115             63.7                 53.4              53.4  \n",
       "116             53.5                 46.1              46.1  \n",
       "117             53.0                 44.5              44.5  \n",
       "118            107.1                 90.0              90.0  \n",
       "\n",
       "[119 rows x 7 columns]"
      ]
     },
     "execution_count": 82,
     "metadata": {},
     "output_type": "execute_result"
    }
   ],
   "source": [
    "df_sample"
   ]
  }
 ],
 "metadata": {
  "colab": {
   "authorship_tag": "ABX9TyOZtlE0oGCKsFHw4NeECG8+",
   "provenance": []
  },
  "interpreter": {
   "hash": "31f2aee4e71d21fbe5cf8b01ff0e069b9275f58929596ceb00d14d90e3e16cd6"
  },
  "kernelspec": {
   "display_name": "Python 3.9.6 64-bit",
   "language": "python",
   "name": "python3"
  },
  "language_info": {
   "codemirror_mode": {
    "name": "ipython",
    "version": 3
   },
   "file_extension": ".py",
   "mimetype": "text/x-python",
   "name": "python",
   "nbconvert_exporter": "python",
   "pygments_lexer": "ipython3",
   "version": "3.9.6"
  }
 },
 "nbformat": 4,
 "nbformat_minor": 4
}
